{
 "cells": [
  {
   "cell_type": "code",
   "execution_count": 2,
   "id": "975f445e-ae92-40c8-81f3-52fc25aac105",
   "metadata": {},
   "outputs": [
    {
     "name": "stdout",
     "output_type": "stream",
     "text": [
      "Required Probability: 0.4240069369665028\n"
     ]
    }
   ],
   "source": [
    "#Q1)\n",
    "\n",
    "import scipy.stats as stats\n",
    "mean_pop=60\n",
    "std_dev=66\n",
    "n=40\n",
    "sample_mean=58\n",
    "\n",
    "error= std_dev/(n**0.5)\n",
    "z=(sample_mean-mean_pop)/error\n",
    "\n",
    "probability = stats.norm.cdf(z)\n",
    "print(f\"Required Probability: {probability}\")"
   ]
  },
  {
   "cell_type": "code",
   "execution_count": 4,
   "id": "4de514e3-c1cb-4b76-8a17-4a6596154e1c",
   "metadata": {},
   "outputs": [
    {
     "name": "stdout",
     "output_type": "stream",
     "text": [
      "Lower bound: 282.4186142480114\n",
      "Upper bound: 337.5813857519886\n"
     ]
    }
   ],
   "source": [
    "#Q2)\n",
    "\n",
    "import scipy.stats as stats\n",
    "avg=310\n",
    "n=40\n",
    "std_dev=89\n",
    "z_critical = 1.96\n",
    "\n",
    "error=std_dev/(n**0.5)\n",
    "\n",
    "error_margin = z_critical * error\n",
    "\n",
    "lower_bound=avg-error_margin\n",
    "upper_bound=avg+error_margin\n",
    "print(f\"Lower bound: {lower_bound}\")\n",
    "print(f\"Upper bound: {upper_bound}\")"
   ]
  },
  {
   "cell_type": "code",
   "execution_count": 6,
   "id": "91fb04a7-6b4c-483b-80b5-593662563ca9",
   "metadata": {},
   "outputs": [],
   "source": [
    "#Q3) \n",
    "\n",
    "# Null Hypothesis: The mean waiting time has not changed from 4.5 minutes (H0: mu = 4.5 minutes).\n",
    "# Alternate Hypothesis: The mean waiting time has changes from 4.5 minutes (h1: mu != 4.5 minutes).\n",
    "\n",
    "# In this case it will be a two-tailed test."
   ]
  },
  {
   "cell_type": "code",
   "execution_count": 8,
   "id": "4ba79fee-c019-4771-ad2e-864250035519",
   "metadata": {},
   "outputs": [
    {
     "name": "stdout",
     "output_type": "stream",
     "text": [
      "p-value: 0.04550026389635842\n"
     ]
    }
   ],
   "source": [
    "#Q4) \n",
    "\n",
    "import scipy.stats as stats\n",
    "z_stat = 2.00\n",
    "\n",
    "p_value = 2 * (1-stats.norm.cdf(z_stat)) #Multiplying by two because it is a two tailed test\n",
    "print(f\"p-value: {p_value}\") "
   ]
  },
  {
   "cell_type": "code",
   "execution_count": 10,
   "id": "4fe9dc8e-10a2-4935-adf0-b74c8737f2d0",
   "metadata": {},
   "outputs": [
    {
     "data": {
      "text/plain": [
       "(2.5, 0.006209665325776159)"
      ]
     },
     "execution_count": 10,
     "metadata": {},
     "output_type": "execute_result"
    }
   ],
   "source": [
    "#Q5)\n",
    "\n",
    "import scipy.stats as stats\n",
    "sample_mean = 30000 \n",
    "hypothesized_mean = 29000\n",
    "std_dev = 8000\n",
    "n = 400 \n",
    "\n",
    "error = std_dev / (n ** 0.5)\n",
    "z_stat = (sample_mean - hypothesized_mean) / error\n",
    "\n",
    "p_value = 1 - stats.norm.cdf(z_stat)\n",
    "\n",
    "z_stat, p_value"
   ]
  },
  {
   "cell_type": "code",
   "execution_count": null,
   "id": "b2e76d30-92a3-4ace-bb7a-943f733e4355",
   "metadata": {},
   "outputs": [],
   "source": []
  }
 ],
 "metadata": {
  "kernelspec": {
   "display_name": "Python 3 (ipykernel)",
   "language": "python",
   "name": "python3"
  },
  "language_info": {
   "codemirror_mode": {
    "name": "ipython",
    "version": 3
   },
   "file_extension": ".py",
   "mimetype": "text/x-python",
   "name": "python",
   "nbconvert_exporter": "python",
   "pygments_lexer": "ipython3",
   "version": "3.12.4"
  }
 },
 "nbformat": 4,
 "nbformat_minor": 5
}

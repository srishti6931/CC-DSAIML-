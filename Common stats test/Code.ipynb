{
 "cells": [
  {
   "cell_type": "code",
   "execution_count": 2,
   "id": "4511fea7-981f-4092-ab12-363dcb7fb87b",
   "metadata": {},
   "outputs": [],
   "source": [
    "# Importing necessary libraries\n",
    "import numpy as np\n",
    "from scipy import stats"
   ]
  },
  {
   "cell_type": "code",
   "execution_count": 3,
   "id": "4f26646a-81c9-49d9-8ed3-3394d30452a8",
   "metadata": {},
   "outputs": [
    {
     "name": "stdout",
     "output_type": "stream",
     "text": [
      "T-statistic: -2.2491611580763973\n",
      "P-value: 0.03655562279112415\n",
      "Reject the null hypothesis: The average mass is significantly different from 10 g.\n"
     ]
    }
   ],
   "source": [
    "# 1) One-sample t test\n",
    "# Data: mass of acorns in grams\n",
    "acorn_masses = [8.8, 6.6, 9.5, 11.2, 10.2, 7.4, 8.0, 9.6, 9.9, 9.0, \n",
    "                7.6, 7.4, 10.4, 11.1, 8.5, 10.0, 11.6, 10.7, 10.3, 7.0]\n",
    "\n",
    "# Hypothesized population mean (mu = 10 g)\n",
    "population_mean = 10\n",
    "\n",
    "# Perform one-sample t-test\n",
    "t_statistic, p_value = stats.ttest_1samp(acorn_masses, population_mean)\n",
    "\n",
    "# Print results\n",
    "print(f\"T-statistic: {t_statistic}\")\n",
    "print(f\"P-value: {p_value}\")\n",
    "\n",
    "# Conclusion at alpha = 0.05\n",
    "alpha = 0.05\n",
    "if p_value < alpha:\n",
    "    print(\"Reject the null hypothesis: The average mass is significantly different from 10 g.\")\n",
    "else:\n",
    "    print(\"Fail to reject the null hypothesis: The average mass is not significantly different from 10 g.\")"
   ]
  },
  {
   "cell_type": "code",
   "execution_count": 6,
   "id": "016875bd-a071-4a69-935b-263a31a1ff71",
   "metadata": {},
   "outputs": [
    {
     "name": "stdout",
     "output_type": "stream",
     "text": [
      "T-statistic: 3.5981947686898033\n",
      "P-value: 0.0007560337478801464\n",
      "Reject the null hypothesis: The mass of acorns from downwind trees is significantly different from those upwind.\n"
     ]
    }
   ],
   "source": [
    "# 2) Two-sample t-test\n",
    "# Sample data for acorns from upwind and downwind\n",
    "upwind_acorns = [10.8, 10.0, 8.2, 9.9, 11.6, 10.1, 11.3, 10.3, \n",
    "                 10.7, 9.7, 7.8, 9.6, 9.7,\n",
    "                 11.6, 10.3, 9.8, 12.3, 11.0, \n",
    "                 10.4, 10.4]\n",
    "\n",
    "downwind_acorns = [7.8, 7.5, 9.5, 11.7, 8.1, 8.8, 8.8, 7.7, \n",
    "                   9.7, 7.0, 9.0, 9.7, 11.3, 8.7, 8.8, 10.9, \n",
    "                   10.3, 9.6, 8.4, 6.6, 7.2, 7.6, 11.5, 6.6, \n",
    "                   8.6, 10.5, 8.4, 8.5, 10.2, 9.2]\n",
    "\n",
    "# Perform two-sample t-test assuming equal variances\n",
    "t_statistic, p_value = stats.ttest_ind(upwind_acorns, downwind_acorns, equal_var=True)\n",
    "\n",
    "# Print results\n",
    "print(f\"T-statistic: {t_statistic}\")\n",
    "print(f\"P-value: {p_value}\")\n",
    "\n",
    "# Conclusion at alpha = 0.057\n",
    "alpha = 0.057\n",
    "if p_value < alpha:\n",
    "    print(\"Reject the null hypothesis: The mass of acorns from downwind trees is significantly different from those upwind.\")\n",
    "else:\n",
    "    print(\"Fail to reject the null hypothesis: The mean marks of students in the three sections are not significantly different.\")"
   ]
  }
 ],
 "metadata": {
  "kernelspec": {
   "display_name": "Python 3 (ipykernel)",
   "language": "python",
   "name": "python3"
  },
  "language_info": {
   "codemirror_mode": {
    "name": "ipython",
    "version": 3
   },
   "file_extension": ".py",
   "mimetype": "text/x-python",
   "name": "python",
   "nbconvert_exporter": "python",
   "pygments_lexer": "ipython3",
   "version": "3.12.4"
  }
 },
 "nbformat": 4,
 "nbformat_minor": 5
}

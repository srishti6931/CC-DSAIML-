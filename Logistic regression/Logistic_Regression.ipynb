{
  "nbformat": 4,
  "nbformat_minor": 0,
  "metadata": {
    "colab": {
      "provenance": [],
      "gpuType": "T4"
    },
    "kernelspec": {
      "name": "python3",
      "display_name": "Python 3"
    },
    "language_info": {
      "name": "python"
    },
    "accelerator": "GPU"
  },
  "cells": [
    {
      "cell_type": "code",
      "execution_count": null,
      "metadata": {
        "colab": {
          "base_uri": "https://localhost:8080/"
        },
        "id": "XnvMbkJ27aDh",
        "outputId": "20b8ae70-3931-4ac4-88eb-93269bb31e56"
      },
      "outputs": [
        {
          "output_type": "stream",
          "name": "stdout",
          "text": [
            "Training data shape: (4000, 19)\n",
            "Test data shape: (1000, 19)\n",
            "   Id  Age          Job  Marital Education  Default  Balance  HHInsurance  \\\n",
            "0   1   32   management   single  tertiary        0     1218            1   \n",
            "1   2   32  blue-collar  married   primary        0     1156            1   \n",
            "2   3   29   management   single  tertiary        0      637            1   \n",
            "3   4   25      student   single   primary        0      373            1   \n",
            "4   5   30   management  married  tertiary        0     2694            0   \n",
            "\n",
            "   CarLoan Communication  LastContactDay LastContactMonth  NoOfContacts  \\\n",
            "0        0     telephone              28              jan             2   \n",
            "1        0           NaN              26              may             5   \n",
            "2        0      cellular               3              jun             1   \n",
            "3        0      cellular              11              may             2   \n",
            "4        0      cellular               3              jun             1   \n",
            "\n",
            "   DaysPassed  PrevAttempts  Outcome CallStart   CallEnd  CarInsurance  \n",
            "0          -1             0      NaN  13:45:20  13:46:30             0  \n",
            "1          -1             0      NaN  14:49:03  14:52:08             0  \n",
            "2         119             1  failure  16:30:24  16:36:04             1  \n",
            "3          -1             0      NaN  12:06:43  12:20:22             1  \n",
            "4          -1             0      NaN  14:35:44  14:38:56             0  \n"
          ]
        }
      ],
      "source": [
        "import pandas as pd\n",
        "import numpy as np\n",
        "from sklearn.model_selection import train_test_split\n",
        "from sklearn.preprocessing import StandardScaler, LabelEncoder\n",
        "from sklearn.linear_model import LogisticRegression\n",
        "from sklearn.metrics import accuracy_score, classification_report, confusion_matrix\n",
        "\n",
        "# Load the dataset\n",
        "# Replace 'train_data.csv' and 'test_data.csv' with actual file paths\n",
        "train_data = pd.read_csv('Logistictrain.csv')\n",
        "test_data = pd.read_csv('Logistictest.csv')\n",
        "\n",
        "# Display basic information\n",
        "print(\"Training data shape:\", train_data.shape)\n",
        "print(\"Test data shape:\", test_data.shape)\n",
        "print(train_data.head())\n",
        "\n",
        "# Check if columns exist before dropping\n",
        "columns_to_drop = ['Id', 'CallStart', 'CallEnd']\n",
        "for column in columns_to_drop:\n",
        "    if column in train_data.columns:\n",
        "        train_data = train_data.drop(columns=[column])\n",
        "    if column in test_data.columns:\n",
        "        test_data = test_data.drop(columns=[column])"
      ]
    },
    {
      "cell_type": "code",
      "source": [
        "# Handle missing values\n",
        "# Fill missing values in categorical columns with 'unknown'\n",
        "categorical_cols = ['Communication', 'Outcome']\n",
        "for col in categorical_cols:\n",
        "    train_data[col].fillna('unknown', inplace=True)\n",
        "    test_data[col].fillna('unknown', inplace=True)\n",
        "\n",
        "# Encode categorical variables\n",
        "encode_cols = ['Job', 'Marital', 'Education', 'Communication', 'Outcome', 'LastContactMonth'] # Include 'LastContactMonth'\n",
        "encoder = LabelEncoder()\n",
        "for col in encode_cols:\n",
        "    train_data[col] = encoder.fit_transform(train_data[col])\n",
        "    test_data[col] = encoder.transform(test_data[col])\n",
        "\n",
        "# Separate features and target\n",
        "X_train = train_data.drop(columns=['CarInsurance'])\n",
        "y_train = train_data['CarInsurance']\n",
        "X_test = test_data.drop(columns=['CarInsurance'])\n",
        "\n",
        "# Standardize numerical columns\n",
        "# Select only numerical features for scaling\n",
        "numerical_cols = X_train.select_dtypes(include=np.number).columns\n",
        "scaler = StandardScaler()\n",
        "X_train[numerical_cols] = scaler.fit_transform(X_train[numerical_cols])\n",
        "X_test[numerical_cols] = scaler.transform(X_test[numerical_cols])\n",
        "\n",
        "# Logistic Regression Model\n",
        "logistic_model = LogisticRegression(random_state=42)\n",
        "logistic_model.fit(X_train, y_train)\n",
        "\n",
        "# Evaluate on training data\n",
        "y_train_pred = logistic_model.predict(X_train)\n",
        "print(\"Training Accuracy:\", accuracy_score(y_train, y_train_pred))\n",
        "print(\"Classification Report:\\n\", classification_report(y_train, y_train_pred))\n",
        "\n",
        "# Predict on test data\n",
        "y_test_pred = logistic_model.predict(X_test)\n",
        "\n",
        "# Save predictions\n",
        "test_data['CarInsurance'] = y_test_pred\n",
        "test_data[['CarInsurance']].to_csv('predictions.csv', index=False)\n",
        "\n",
        "print(\"Predictions saved to 'predictions.csv'.\")"
      ],
      "metadata": {
        "colab": {
          "base_uri": "https://localhost:8080/"
        },
        "id": "GbRfiQxi-MKU",
        "outputId": "90b602b0-fec4-4306-e02d-e88bf0a5d5b4"
      },
      "execution_count": null,
      "outputs": [
        {
          "output_type": "stream",
          "name": "stderr",
          "text": [
            "<ipython-input-10-51adb12a5c83>:5: FutureWarning: A value is trying to be set on a copy of a DataFrame or Series through chained assignment using an inplace method.\n",
            "The behavior will change in pandas 3.0. This inplace method will never work because the intermediate object on which we are setting values always behaves as a copy.\n",
            "\n",
            "For example, when doing 'df[col].method(value, inplace=True)', try using 'df.method({col: value}, inplace=True)' or df[col] = df[col].method(value) instead, to perform the operation inplace on the original object.\n",
            "\n",
            "\n",
            "  train_data[col].fillna('unknown', inplace=True)\n",
            "<ipython-input-10-51adb12a5c83>:6: FutureWarning: A value is trying to be set on a copy of a DataFrame or Series through chained assignment using an inplace method.\n",
            "The behavior will change in pandas 3.0. This inplace method will never work because the intermediate object on which we are setting values always behaves as a copy.\n",
            "\n",
            "For example, when doing 'df[col].method(value, inplace=True)', try using 'df.method({col: value}, inplace=True)' or df[col] = df[col].method(value) instead, to perform the operation inplace on the original object.\n",
            "\n",
            "\n",
            "  test_data[col].fillna('unknown', inplace=True)\n"
          ]
        },
        {
          "output_type": "stream",
          "name": "stdout",
          "text": [
            "Training Accuracy: 0.679\n",
            "Classification Report:\n",
            "               precision    recall  f1-score   support\n",
            "\n",
            "           0       0.70      0.81      0.75      2396\n",
            "           1       0.63      0.48      0.55      1604\n",
            "\n",
            "    accuracy                           0.68      4000\n",
            "   macro avg       0.67      0.65      0.65      4000\n",
            "weighted avg       0.67      0.68      0.67      4000\n",
            "\n",
            "Predictions saved to 'predictions.csv'.\n"
          ]
        }
      ]
    }
  ]
}
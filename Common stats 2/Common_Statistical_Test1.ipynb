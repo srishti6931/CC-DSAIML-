{
  "nbformat": 4,
  "nbformat_minor": 0,
  "metadata": {
    "colab": {
      "provenance": [],
      "gpuType": "T4"
    },
    "kernelspec": {
      "name": "python3",
      "display_name": "Python 3"
    },
    "language_info": {
      "name": "python"
    },
    "accelerator": "GPU"
  },
  "cells": [
    {
      "cell_type": "code",
      "execution_count": null,
      "metadata": {
        "colab": {
          "base_uri": "https://localhost:8080/"
        },
        "id": "Qhw1wKKaeApt",
        "outputId": "f7082d2b-0e32-4877-cfa0-1caf119cb204"
      },
      "outputs": [
        {
          "output_type": "stream",
          "name": "stdout",
          "text": [
            "T-statistic: -2.2492, p-value: 0.0366\n",
            "Reject the null hypothesis: The average mass is significantly different from 10 g.\n"
          ]
        }
      ],
      "source": [
        "from scipy.stats import ttest_1samp\n",
        "\n",
        "# Data\n",
        "masses = [8.8, 6.6, 9.5, 11.2, 10.2, 7.4, 8.0, 9.6, 9.9, 9.0, 7.6, 7.4, 10.4, 11.1, 8.5, 10.0, 11.6, 10.7, 10.3, 7.0]\n",
        "population_mean = 10  # Null hypothesis mean\n",
        "alpha = 0.05  # Significance level\n",
        "\n",
        "# Perform one-sample t-test\n",
        "t_stat, p_value = ttest_1samp(masses, population_mean)\n",
        "\n",
        "print(f\"T-statistic: {t_stat:.4f}, p-value: {p_value:.4f}\")\n",
        "if p_value < alpha:\n",
        "    print(\"Reject the null hypothesis: The average mass is significantly different from 10 g.\")\n",
        "else:\n",
        "    print(\"Fail to reject the null hypothesis: No significant difference from 10 g.\")"
      ]
    },
    {
      "cell_type": "code",
      "source": [
        "from scipy.stats import ttest_ind\n",
        "\n",
        "# Data\n",
        "sample_upwind = [10.8, 10.0, 8.2, 9.9, 11.6, 10.1, 11.3, 10.3, 10.7, 9.7, 7.5, 9.6, 9.7, 11.6, 10.3, 9.8, 12.3, 11.0, 10.4, 10.4]\n",
        "sample_downwind = [7.8, 7.5, 9.5, 11.7, 8.1, 8.8, 8.8, 7.7, 9.7, 7.0, 9.0, 9.7, 11.3, 8.7, 8.8, 10.9, 10.1, 9.6, 8.4, 6.6, 7.2, 7.6, 11.5, 6.6, 8.6, 10.5, 8.4, 8.5, 10.2, 9.2]\n",
        "alpha = 0.05  # Significance level\n",
        "\n",
        "# Perform two-sample t-test\n",
        "t_stat, p_value = ttest_ind(sample_upwind, sample_downwind, equal_var=True)\n",
        "\n",
        "print(f\"T-statistic: {t_stat:.4f}, p-value: {p_value:.4f}\")\n",
        "if p_value < alpha:\n",
        "    print(\"Reject the null hypothesis: The masses are significantly different.\")\n",
        "else:\n",
        "    print(\"Fail to reject the null hypothesis: No significant difference in masses.\")"
      ],
      "metadata": {
        "colab": {
          "base_uri": "https://localhost:8080/"
        },
        "id": "0K4LgBwmeYEa",
        "outputId": "cbeafdbe-8481-4608-ff1d-18e05e42b1ae"
      },
      "execution_count": null,
      "outputs": [
        {
          "output_type": "stream",
          "name": "stdout",
          "text": [
            "T-statistic: 3.5520, p-value: 0.0009\n",
            "Reject the null hypothesis: The masses are significantly different.\n"
          ]
        }
      ]
    },
    {
      "cell_type": "code",
      "source": [
        "from scipy.stats import f_oneway\n",
        "\n",
        "# Data\n",
        "marks_section_a = [51, 45, 33, 45, 67]\n",
        "marks_section_b = [23, 43, 23, 43, 45]\n",
        "marks_section_c = [56, 76, 74, 87, 56]\n",
        "alpha = 0.05  # Significance level\n",
        "\n",
        "# Perform ANOVA test\n",
        "f_stat, p_value = f_oneway(marks_section_a, marks_section_b, marks_section_c)\n",
        "\n",
        "print(f\"F-statistic: {f_stat:.4f}, p-value: {p_value:.4f}\")\n",
        "if p_value < alpha:\n",
        "    print(\"Reject the null hypothesis: The mean marks are significantly different among the sections.\")\n",
        "else:\n",
        "    print(\"Fail to reject the null hypothesis: No significant difference in mean marks among the sections.\")"
      ],
      "metadata": {
        "id": "tH9RAJJ3ediA",
        "outputId": "a0d17924-1553-4ff0-ba1b-67d373f407bb",
        "colab": {
          "base_uri": "https://localhost:8080/"
        }
      },
      "execution_count": null,
      "outputs": [
        {
          "output_type": "stream",
          "name": "stdout",
          "text": [
            "F-statistic: 9.7472, p-value: 0.0031\n",
            "Reject the null hypothesis: The mean marks are significantly different among the sections.\n"
          ]
        }
      ]
    }
  ]
}